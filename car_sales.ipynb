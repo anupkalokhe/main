{
 "cells": [
  {
   "cell_type": "markdown",
   "metadata": {
    "id": "XTPyUzE1xPXj"
   },
   "source": [
    "<h1>Installing Streamlit</h1>\n",
    "\n"
   ]
  },
  {
   "cell_type": "code",
   "execution_count": 90,
   "metadata": {
    "id": "Up09EAJia93g"
   },
   "outputs": [],
   "source": [
    "#!pip install -r requirements.txt"
   ]
  },
  {
   "cell_type": "code",
   "execution_count": 2,
   "metadata": {
    "colab": {
     "base_uri": "https://localhost:8080/"
    },
    "id": "5rxCfYyJRe52",
    "outputId": "411415d0-5053-4d28-97c4-b993edad2894"
   },
   "outputs": [
    {
     "name": "stdout",
     "output_type": "stream",
     "text": [
      "Requirement already satisfied: streamlit in /usr/local/lib/python3.7/dist-packages (1.2.0)\n",
      "Requirement already satisfied: altair>=3.2.0 in /usr/local/lib/python3.7/dist-packages (from streamlit) (4.1.0)\n",
      "Requirement already satisfied: blinker in /usr/local/lib/python3.7/dist-packages (from streamlit) (1.4)\n",
      "Requirement already satisfied: numpy in /usr/local/lib/python3.7/dist-packages (from streamlit) (1.19.5)\n",
      "Requirement already satisfied: pandas>=0.21.0 in /usr/local/lib/python3.7/dist-packages (from streamlit) (1.1.5)\n",
      "Requirement already satisfied: pyarrow in /usr/local/lib/python3.7/dist-packages (from streamlit) (3.0.0)\n",
      "Requirement already satisfied: python-dateutil in /usr/local/lib/python3.7/dist-packages (from streamlit) (2.8.2)\n",
      "Requirement already satisfied: tzlocal in /usr/local/lib/python3.7/dist-packages (from streamlit) (1.5.1)\n",
      "Requirement already satisfied: requests in /usr/local/lib/python3.7/dist-packages (from streamlit) (2.23.0)\n",
      "Requirement already satisfied: astor in /usr/local/lib/python3.7/dist-packages (from streamlit) (0.8.1)\n",
      "Requirement already satisfied: gitpython!=3.1.19 in /usr/local/lib/python3.7/dist-packages (from streamlit) (3.1.24)\n",
      "Requirement already satisfied: watchdog in /usr/local/lib/python3.7/dist-packages (from streamlit) (2.1.6)\n",
      "Requirement already satisfied: protobuf!=3.11,>=3.6.0 in /usr/local/lib/python3.7/dist-packages (from streamlit) (3.17.3)\n",
      "Requirement already satisfied: toml in /usr/local/lib/python3.7/dist-packages (from streamlit) (0.10.2)\n",
      "Requirement already satisfied: validators in /usr/local/lib/python3.7/dist-packages (from streamlit) (0.18.2)\n",
      "Requirement already satisfied: pillow>=6.2.0 in /usr/local/lib/python3.7/dist-packages (from streamlit) (7.1.2)\n",
      "Requirement already satisfied: pydeck>=0.1.dev5 in /usr/local/lib/python3.7/dist-packages (from streamlit) (0.7.1)\n",
      "Requirement already satisfied: base58 in /usr/local/lib/python3.7/dist-packages (from streamlit) (2.1.1)\n",
      "Requirement already satisfied: packaging in /usr/local/lib/python3.7/dist-packages (from streamlit) (21.3)\n",
      "Requirement already satisfied: attrs in /usr/local/lib/python3.7/dist-packages (from streamlit) (21.2.0)\n",
      "Requirement already satisfied: click<8.0,>=7.0 in /usr/local/lib/python3.7/dist-packages (from streamlit) (7.1.2)\n",
      "Requirement already satisfied: pympler>=0.9 in /usr/local/lib/python3.7/dist-packages (from streamlit) (0.9)\n",
      "Requirement already satisfied: cachetools>=4.0 in /usr/local/lib/python3.7/dist-packages (from streamlit) (4.2.4)\n",
      "Requirement already satisfied: tornado>=5.0 in /usr/local/lib/python3.7/dist-packages (from streamlit) (5.1.1)\n",
      "Requirement already satisfied: entrypoints in /usr/local/lib/python3.7/dist-packages (from altair>=3.2.0->streamlit) (0.3)\n",
      "Requirement already satisfied: jsonschema in /usr/local/lib/python3.7/dist-packages (from altair>=3.2.0->streamlit) (2.6.0)\n",
      "Requirement already satisfied: toolz in /usr/local/lib/python3.7/dist-packages (from altair>=3.2.0->streamlit) (0.11.2)\n",
      "Requirement already satisfied: jinja2 in /usr/local/lib/python3.7/dist-packages (from altair>=3.2.0->streamlit) (2.11.3)\n",
      "Requirement already satisfied: typing-extensions>=3.7.4.3 in /usr/local/lib/python3.7/dist-packages (from gitpython!=3.1.19->streamlit) (3.10.0.2)\n",
      "Requirement already satisfied: gitdb<5,>=4.0.1 in /usr/local/lib/python3.7/dist-packages (from gitpython!=3.1.19->streamlit) (4.0.9)\n",
      "Requirement already satisfied: smmap<6,>=3.0.1 in /usr/local/lib/python3.7/dist-packages (from gitdb<5,>=4.0.1->gitpython!=3.1.19->streamlit) (5.0.0)\n",
      "Requirement already satisfied: pytz>=2017.2 in /usr/local/lib/python3.7/dist-packages (from pandas>=0.21.0->streamlit) (2018.9)\n",
      "Requirement already satisfied: six>=1.9 in /usr/local/lib/python3.7/dist-packages (from protobuf!=3.11,>=3.6.0->streamlit) (1.15.0)\n",
      "Requirement already satisfied: ipywidgets>=7.0.0 in /usr/local/lib/python3.7/dist-packages (from pydeck>=0.1.dev5->streamlit) (7.6.5)\n",
      "Requirement already satisfied: traitlets>=4.3.2 in /usr/local/lib/python3.7/dist-packages (from pydeck>=0.1.dev5->streamlit) (5.1.1)\n",
      "Requirement already satisfied: ipykernel>=5.1.2 in /usr/local/lib/python3.7/dist-packages (from pydeck>=0.1.dev5->streamlit) (6.6.0)\n",
      "Requirement already satisfied: debugpy<2.0,>=1.0.0 in /usr/local/lib/python3.7/dist-packages (from ipykernel>=5.1.2->pydeck>=0.1.dev5->streamlit) (1.0.0)\n",
      "Requirement already satisfied: matplotlib-inline<0.2.0,>=0.1.0 in /usr/local/lib/python3.7/dist-packages (from ipykernel>=5.1.2->pydeck>=0.1.dev5->streamlit) (0.1.3)\n",
      "Requirement already satisfied: importlib-metadata<5 in /usr/local/lib/python3.7/dist-packages (from ipykernel>=5.1.2->pydeck>=0.1.dev5->streamlit) (4.8.2)\n",
      "Requirement already satisfied: ipython>=7.23.1 in /usr/local/lib/python3.7/dist-packages (from ipykernel>=5.1.2->pydeck>=0.1.dev5->streamlit) (7.30.1)\n",
      "Requirement already satisfied: jupyter-client<8.0 in /usr/local/lib/python3.7/dist-packages (from ipykernel>=5.1.2->pydeck>=0.1.dev5->streamlit) (5.3.5)\n",
      "Requirement already satisfied: argcomplete>=1.12.3 in /usr/local/lib/python3.7/dist-packages (from ipykernel>=5.1.2->pydeck>=0.1.dev5->streamlit) (1.12.3)\n",
      "Requirement already satisfied: zipp>=0.5 in /usr/local/lib/python3.7/dist-packages (from importlib-metadata<5->ipykernel>=5.1.2->pydeck>=0.1.dev5->streamlit) (3.6.0)\n",
      "Requirement already satisfied: pygments in /usr/local/lib/python3.7/dist-packages (from ipython>=7.23.1->ipykernel>=5.1.2->pydeck>=0.1.dev5->streamlit) (2.6.1)\n",
      "Requirement already satisfied: setuptools>=18.5 in /usr/local/lib/python3.7/dist-packages (from ipython>=7.23.1->ipykernel>=5.1.2->pydeck>=0.1.dev5->streamlit) (57.4.0)\n",
      "Requirement already satisfied: backcall in /usr/local/lib/python3.7/dist-packages (from ipython>=7.23.1->ipykernel>=5.1.2->pydeck>=0.1.dev5->streamlit) (0.2.0)\n",
      "Requirement already satisfied: pexpect>4.3 in /usr/local/lib/python3.7/dist-packages (from ipython>=7.23.1->ipykernel>=5.1.2->pydeck>=0.1.dev5->streamlit) (4.8.0)\n",
      "Requirement already satisfied: prompt-toolkit!=3.0.0,!=3.0.1,<3.1.0,>=2.0.0 in /usr/local/lib/python3.7/dist-packages (from ipython>=7.23.1->ipykernel>=5.1.2->pydeck>=0.1.dev5->streamlit) (3.0.24)\n",
      "Requirement already satisfied: jedi>=0.16 in /usr/local/lib/python3.7/dist-packages (from ipython>=7.23.1->ipykernel>=5.1.2->pydeck>=0.1.dev5->streamlit) (0.18.1)\n",
      "Requirement already satisfied: pickleshare in /usr/local/lib/python3.7/dist-packages (from ipython>=7.23.1->ipykernel>=5.1.2->pydeck>=0.1.dev5->streamlit) (0.7.5)\n",
      "Requirement already satisfied: decorator in /usr/local/lib/python3.7/dist-packages (from ipython>=7.23.1->ipykernel>=5.1.2->pydeck>=0.1.dev5->streamlit) (4.4.2)\n",
      "Requirement already satisfied: nbformat>=4.2.0 in /usr/local/lib/python3.7/dist-packages (from ipywidgets>=7.0.0->pydeck>=0.1.dev5->streamlit) (5.1.3)\n",
      "Requirement already satisfied: widgetsnbextension~=3.5.0 in /usr/local/lib/python3.7/dist-packages (from ipywidgets>=7.0.0->pydeck>=0.1.dev5->streamlit) (3.5.2)\n",
      "Requirement already satisfied: jupyterlab-widgets>=1.0.0 in /usr/local/lib/python3.7/dist-packages (from ipywidgets>=7.0.0->pydeck>=0.1.dev5->streamlit) (1.0.2)\n",
      "Requirement already satisfied: ipython-genutils~=0.2.0 in /usr/local/lib/python3.7/dist-packages (from ipywidgets>=7.0.0->pydeck>=0.1.dev5->streamlit) (0.2.0)\n",
      "Requirement already satisfied: parso<0.9.0,>=0.8.0 in /usr/local/lib/python3.7/dist-packages (from jedi>=0.16->ipython>=7.23.1->ipykernel>=5.1.2->pydeck>=0.1.dev5->streamlit) (0.8.3)\n",
      "Requirement already satisfied: MarkupSafe>=0.23 in /usr/local/lib/python3.7/dist-packages (from jinja2->altair>=3.2.0->streamlit) (2.0.1)\n",
      "Requirement already satisfied: jupyter-core>=4.6.0 in /usr/local/lib/python3.7/dist-packages (from jupyter-client<8.0->ipykernel>=5.1.2->pydeck>=0.1.dev5->streamlit) (4.9.1)\n",
      "Requirement already satisfied: pyzmq>=13 in /usr/local/lib/python3.7/dist-packages (from jupyter-client<8.0->ipykernel>=5.1.2->pydeck>=0.1.dev5->streamlit) (22.3.0)\n",
      "Requirement already satisfied: ptyprocess>=0.5 in /usr/local/lib/python3.7/dist-packages (from pexpect>4.3->ipython>=7.23.1->ipykernel>=5.1.2->pydeck>=0.1.dev5->streamlit) (0.7.0)\n",
      "Requirement already satisfied: wcwidth in /usr/local/lib/python3.7/dist-packages (from prompt-toolkit!=3.0.0,!=3.0.1,<3.1.0,>=2.0.0->ipython>=7.23.1->ipykernel>=5.1.2->pydeck>=0.1.dev5->streamlit) (0.2.5)\n",
      "Requirement already satisfied: notebook>=4.4.1 in /usr/local/lib/python3.7/dist-packages (from widgetsnbextension~=3.5.0->ipywidgets>=7.0.0->pydeck>=0.1.dev5->streamlit) (5.3.1)\n",
      "Requirement already satisfied: terminado>=0.8.1 in /usr/local/lib/python3.7/dist-packages (from notebook>=4.4.1->widgetsnbextension~=3.5.0->ipywidgets>=7.0.0->pydeck>=0.1.dev5->streamlit) (0.12.1)\n",
      "Requirement already satisfied: nbconvert in /usr/local/lib/python3.7/dist-packages (from notebook>=4.4.1->widgetsnbextension~=3.5.0->ipywidgets>=7.0.0->pydeck>=0.1.dev5->streamlit) (5.6.1)\n",
      "Requirement already satisfied: Send2Trash in /usr/local/lib/python3.7/dist-packages (from notebook>=4.4.1->widgetsnbextension~=3.5.0->ipywidgets>=7.0.0->pydeck>=0.1.dev5->streamlit) (1.8.0)\n",
      "Requirement already satisfied: bleach in /usr/local/lib/python3.7/dist-packages (from nbconvert->notebook>=4.4.1->widgetsnbextension~=3.5.0->ipywidgets>=7.0.0->pydeck>=0.1.dev5->streamlit) (4.1.0)\n",
      "Requirement already satisfied: mistune<2,>=0.8.1 in /usr/local/lib/python3.7/dist-packages (from nbconvert->notebook>=4.4.1->widgetsnbextension~=3.5.0->ipywidgets>=7.0.0->pydeck>=0.1.dev5->streamlit) (0.8.4)\n",
      "Requirement already satisfied: testpath in /usr/local/lib/python3.7/dist-packages (from nbconvert->notebook>=4.4.1->widgetsnbextension~=3.5.0->ipywidgets>=7.0.0->pydeck>=0.1.dev5->streamlit) (0.5.0)\n",
      "Requirement already satisfied: pandocfilters>=1.4.1 in /usr/local/lib/python3.7/dist-packages (from nbconvert->notebook>=4.4.1->widgetsnbextension~=3.5.0->ipywidgets>=7.0.0->pydeck>=0.1.dev5->streamlit) (1.5.0)\n",
      "Requirement already satisfied: defusedxml in /usr/local/lib/python3.7/dist-packages (from nbconvert->notebook>=4.4.1->widgetsnbextension~=3.5.0->ipywidgets>=7.0.0->pydeck>=0.1.dev5->streamlit) (0.7.1)\n",
      "Requirement already satisfied: webencodings in /usr/local/lib/python3.7/dist-packages (from bleach->nbconvert->notebook>=4.4.1->widgetsnbextension~=3.5.0->ipywidgets>=7.0.0->pydeck>=0.1.dev5->streamlit) (0.5.1)\n",
      "Requirement already satisfied: pyparsing!=3.0.5,>=2.0.2 in /usr/local/lib/python3.7/dist-packages (from packaging->streamlit) (3.0.6)\n",
      "Requirement already satisfied: chardet<4,>=3.0.2 in /usr/local/lib/python3.7/dist-packages (from requests->streamlit) (3.0.4)\n",
      "Requirement already satisfied: idna<3,>=2.5 in /usr/local/lib/python3.7/dist-packages (from requests->streamlit) (2.10)\n",
      "Requirement already satisfied: certifi>=2017.4.17 in /usr/local/lib/python3.7/dist-packages (from requests->streamlit) (2021.10.8)\n",
      "Requirement already satisfied: urllib3!=1.25.0,!=1.25.1,<1.26,>=1.21.1 in /usr/local/lib/python3.7/dist-packages (from requests->streamlit) (1.24.3)\n"
     ]
    }
   ],
   "source": [
    "!pip install streamlit"
   ]
  },
  {
   "cell_type": "markdown",
   "metadata": {
    "id": "HzKqqKIowfBC"
   },
   "source": [
    "<h1>Importing the packages</h1>\n",
    "\n"
   ]
  },
  {
   "cell_type": "code",
   "execution_count": 1,
   "metadata": {
    "id": "CuyTPimfkyY0"
   },
   "outputs": [],
   "source": [
    "from sklearn.metrics import mean_absolute_error\n",
    "from fbprophet import Prophet\n",
    "import pandas as pd\n",
    "import matplotlib.pyplot as plt\n",
    "import streamlit as st"
   ]
  },
  {
   "cell_type": "markdown",
   "metadata": {
    "id": "ubjqe_0FxlpQ"
   },
   "source": [
    "<h1>Loading the data</h1>\n",
    "\n"
   ]
  },
  {
   "cell_type": "code",
   "execution_count": 3,
   "metadata": {
    "colab": {
     "base_uri": "https://localhost:8080/"
    },
    "id": "TjYgcwXHlldN",
    "outputId": "f4029c11-ea69-480c-8735-49ecd0d6159a"
   },
   "outputs": [
    {
     "name": "stdout",
     "output_type": "stream",
     "text": [
      "(108, 2)\n",
      "<bound method NDFrame.head of        Month  Sales\n",
      "0    1960-01   6550\n",
      "1    1960-02   8728\n",
      "2    1960-03  12026\n",
      "3    1960-04  14395\n",
      "4    1960-05  14587\n",
      "..       ...    ...\n",
      "103  1968-08  16722\n",
      "104  1968-09  14385\n",
      "105  1968-10  21342\n",
      "106  1968-11  17180\n",
      "107  1968-12  14577\n",
      "\n",
      "[108 rows x 2 columns]>\n"
     ]
    }
   ],
   "source": [
    "path = \"https://raw.githubusercontent.com/jbrownlee/Datasets/master/monthly-car-sales.csv\"\n",
    "df = pd.read_csv(path,header=0)\n",
    "print(df.shape)\n",
    "print(df.head)"
   ]
  },
  {
   "cell_type": "markdown",
   "metadata": {
    "id": "D4zHU_x3xf5l"
   },
   "source": [
    "<h1>Exploring the given dataset</h1>\n",
    "\n"
   ]
  },
  {
   "cell_type": "code",
   "execution_count": 4,
   "metadata": {
    "colab": {
     "base_uri": "https://localhost:8080/",
     "height": 265
    },
    "id": "juA2aT1QmEBb",
    "outputId": "8067c2fe-9edb-4fea-a74d-f5617e0fbc81"
   },
   "outputs": [
    {
     "data": {
      "image/png": "[encoded data removed]",
      "text/plain": [
       "<Figure size 432x288 with 1 Axes>"
      ]
     },
     "metadata": {
      "needs_background": "light"
     },
     "output_type": "display_data"
    }
   ],
   "source": [
    "df.plot()\n",
    "plt.show()"
   ]
  },
  {
   "cell_type": "markdown",
   "metadata": {
    "id": "S8pZ0xQ9yGTN"
   },
   "source": [
    "<h1>Renaming The Columns</h1>\n",
    "\n"
   ]
  },
  {
   "cell_type": "code",
   "execution_count": 5,
   "metadata": {
    "colab": {
     "base_uri": "https://localhost:8080/",
     "height": 424
    },
    "id": "Nam1pO2qmjyZ",
    "outputId": "81c19d93-f2d1-4108-c86f-de84901c75c7"
   },
   "outputs": [
    {
     "data": {
      "text/html": [
       "<div>\n",
       "<style scoped>\n",
       "    .dataframe tbody tr th:only-of-type {\n",
       "        vertical-align: middle;\n",
       "    }\n",
       "\n",
       "    .dataframe tbody tr th {\n",
       "        vertical-align: top;\n",
       "    }\n",
       "\n",
       "    .dataframe thead th {\n",
       "        text-align: right;\n",
       "    }\n",
       "</style>\n",
       "<table border=\"1\" class=\"dataframe\">\n",
       "  <thead>\n",
       "    <tr style=\"text-align: right;\">\n",
       "      <th></th>\n",
       "      <th>ds</th>\n",
       "      <th>y</th>\n",
       "    </tr>\n",
       "  </thead>\n",
       "  <tbody>\n",
       "    <tr>\n",
       "      <th>0</th>\n",
       "      <td>1960-01</td>\n",
       "      <td>6550</td>\n",
       "    </tr>\n",
       "    <tr>\n",
       "      <th>1</th>\n",
       "      <td>1960-02</td>\n",
       "      <td>8728</td>\n",
       "    </tr>\n",
       "    <tr>\n",
       "      <th>2</th>\n",
       "      <td>1960-03</td>\n",
       "      <td>12026</td>\n",
       "    </tr>\n",
       "    <tr>\n",
       "      <th>3</th>\n",
       "      <td>1960-04</td>\n",
       "      <td>14395</td>\n",
       "    </tr>\n",
       "    <tr>\n",
       "      <th>4</th>\n",
       "      <td>1960-05</td>\n",
       "      <td>14587</td>\n",
       "    </tr>\n",
       "    <tr>\n",
       "      <th>...</th>\n",
       "      <td>...</td>\n",
       "      <td>...</td>\n",
       "    </tr>\n",
       "    <tr>\n",
       "      <th>103</th>\n",
       "      <td>1968-08</td>\n",
       "      <td>16722</td>\n",
       "    </tr>\n",
       "    <tr>\n",
       "      <th>104</th>\n",
       "      <td>1968-09</td>\n",
       "      <td>14385</td>\n",
       "    </tr>\n",
       "    <tr>\n",
       "      <th>105</th>\n",
       "      <td>1968-10</td>\n",
       "      <td>21342</td>\n",
       "    </tr>\n",
       "    <tr>\n",
       "      <th>106</th>\n",
       "      <td>1968-11</td>\n",
       "      <td>17180</td>\n",
       "    </tr>\n",
       "    <tr>\n",
       "      <th>107</th>\n",
       "      <td>1968-12</td>\n",
       "      <td>14577</td>\n",
       "    </tr>\n",
       "  </tbody>\n",
       "</table>\n",
       "<p>108 rows × 2 columns</p>\n",
       "</div>"
      ],
      "text/plain": [
       "          ds      y\n",
       "0    1960-01   6550\n",
       "1    1960-02   8728\n",
       "2    1960-03  12026\n",
       "3    1960-04  14395\n",
       "4    1960-05  14587\n",
       "..       ...    ...\n",
       "103  1968-08  16722\n",
       "104  1968-09  14385\n",
       "105  1968-10  21342\n",
       "106  1968-11  17180\n",
       "107  1968-12  14577\n",
       "\n",
       "[108 rows x 2 columns]"
      ]
     },
     "execution_count": 5,
     "metadata": {},
     "output_type": "execute_result"
    }
   ],
   "source": [
    "df.columns = ['ds','y']\n",
    "df"
   ]
  },
  {
   "cell_type": "markdown",
   "metadata": {
    "id": "YhPX5iLZySp6"
   },
   "source": [
    "<h1>Summarizing the data points</h1>\n",
    "\n"
   ]
  },
  {
   "cell_type": "code",
   "execution_count": 6,
   "metadata": {
    "colab": {
     "base_uri": "https://localhost:8080/"
    },
    "id": "u5etWzmxnIJM",
    "outputId": "3ed798e5-a2b9-40d5-c203-5d382c70478c"
   },
   "outputs": [
    {
     "name": "stdout",
     "output_type": "stream",
     "text": [
      "<class 'pandas.core.frame.DataFrame'>\n",
      "RangeIndex: 108 entries, 0 to 107\n",
      "Data columns (total 2 columns):\n",
      " #   Column  Non-Null Count  Dtype \n",
      "---  ------  --------------  ----- \n",
      " 0   ds      108 non-null    object\n",
      " 1   y       108 non-null    int64 \n",
      "dtypes: int64(1), object(1)\n",
      "memory usage: 1.8+ KB\n"
     ]
    }
   ],
   "source": [
    "df.info()"
   ]
  },
  {
   "cell_type": "markdown",
   "metadata": {
    "id": "6k46MFR3yhgX"
   },
   "source": [
    "<h1>Converting Date from text to Datetime object</h1>\n",
    "\n"
   ]
  },
  {
   "cell_type": "code",
   "execution_count": 7,
   "metadata": {
    "colab": {
     "base_uri": "https://localhost:8080/"
    },
    "id": "mi4M-pEuntT7",
    "outputId": "0dc96c23-b4b0-45dc-9237-13b00a9db02b"
   },
   "outputs": [
    {
     "name": "stdout",
     "output_type": "stream",
     "text": [
      "<class 'pandas.core.frame.DataFrame'>\n",
      "RangeIndex: 108 entries, 0 to 107\n",
      "Data columns (total 2 columns):\n",
      " #   Column  Non-Null Count  Dtype         \n",
      "---  ------  --------------  -----         \n",
      " 0   ds      108 non-null    datetime64[ns]\n",
      " 1   y       108 non-null    int64         \n",
      "dtypes: datetime64[ns](1), int64(1)\n",
      "memory usage: 1.8 KB\n"
     ]
    }
   ],
   "source": [
    "df['ds'] = pd.to_datetime(df['ds'])\n",
    "df\n",
    "df.info()"
   ]
  },
  {
   "cell_type": "markdown",
   "metadata": {
    "id": "FCcKWVi8ythz"
   },
   "source": [
    "<h1>Exploring the datset after conversion</h1>\n",
    "\n"
   ]
  },
  {
   "cell_type": "code",
   "execution_count": 8,
   "metadata": {
    "colab": {
     "base_uri": "https://localhost:8080/",
     "height": 424
    },
    "id": "MV80KJGpoEYk",
    "outputId": "1ac1bf12-20ac-4ac7-ccde-61c643271e5a"
   },
   "outputs": [
    {
     "data": {
      "text/html": [
       "<div>\n",
       "<style scoped>\n",
       "    .dataframe tbody tr th:only-of-type {\n",
       "        vertical-align: middle;\n",
       "    }\n",
       "\n",
       "    .dataframe tbody tr th {\n",
       "        vertical-align: top;\n",
       "    }\n",
       "\n",
       "    .dataframe thead th {\n",
       "        text-align: right;\n",
       "    }\n",
       "</style>\n",
       "<table border=\"1\" class=\"dataframe\">\n",
       "  <thead>\n",
       "    <tr style=\"text-align: right;\">\n",
       "      <th></th>\n",
       "      <th>ds</th>\n",
       "      <th>y</th>\n",
       "    </tr>\n",
       "  </thead>\n",
       "  <tbody>\n",
       "    <tr>\n",
       "      <th>0</th>\n",
       "      <td>1960-01-01</td>\n",
       "      <td>6550</td>\n",
       "    </tr>\n",
       "    <tr>\n",
       "      <th>1</th>\n",
       "      <td>1960-02-01</td>\n",
       "      <td>8728</td>\n",
       "    </tr>\n",
       "    <tr>\n",
       "      <th>2</th>\n",
       "      <td>1960-03-01</td>\n",
       "      <td>12026</td>\n",
       "    </tr>\n",
       "    <tr>\n",
       "      <th>3</th>\n",
       "      <td>1960-04-01</td>\n",
       "      <td>14395</td>\n",
       "    </tr>\n",
       "    <tr>\n",
       "      <th>4</th>\n",
       "      <td>1960-05-01</td>\n",
       "      <td>14587</td>\n",
       "    </tr>\n",
       "    <tr>\n",
       "      <th>...</th>\n",
       "      <td>...</td>\n",
       "      <td>...</td>\n",
       "    </tr>\n",
       "    <tr>\n",
       "      <th>103</th>\n",
       "      <td>1968-08-01</td>\n",
       "      <td>16722</td>\n",
       "    </tr>\n",
       "    <tr>\n",
       "      <th>104</th>\n",
       "      <td>1968-09-01</td>\n",
       "      <td>14385</td>\n",
       "    </tr>\n",
       "    <tr>\n",
       "      <th>105</th>\n",
       "      <td>1968-10-01</td>\n",
       "      <td>21342</td>\n",
       "    </tr>\n",
       "    <tr>\n",
       "      <th>106</th>\n",
       "      <td>1968-11-01</td>\n",
       "      <td>17180</td>\n",
       "    </tr>\n",
       "    <tr>\n",
       "      <th>107</th>\n",
       "      <td>1968-12-01</td>\n",
       "      <td>14577</td>\n",
       "    </tr>\n",
       "  </tbody>\n",
       "</table>\n",
       "<p>108 rows × 2 columns</p>\n",
       "</div>"
      ],
      "text/plain": [
       "            ds      y\n",
       "0   1960-01-01   6550\n",
       "1   1960-02-01   8728\n",
       "2   1960-03-01  12026\n",
       "3   1960-04-01  14395\n",
       "4   1960-05-01  14587\n",
       "..         ...    ...\n",
       "103 1968-08-01  16722\n",
       "104 1968-09-01  14385\n",
       "105 1968-10-01  21342\n",
       "106 1968-11-01  17180\n",
       "107 1968-12-01  14577\n",
       "\n",
       "[108 rows x 2 columns]"
      ]
     },
     "execution_count": 8,
     "metadata": {},
     "output_type": "execute_result"
    }
   ],
   "source": [
    "df"
   ]
  },
  {
   "cell_type": "markdown",
   "metadata": {
    "id": "H5A6bJJ-y3Cq"
   },
   "source": [
    "<h1>Model Initialization and Fitting</h1>\n",
    "\n"
   ]
  },
  {
   "cell_type": "code",
   "execution_count": 9,
   "metadata": {
    "id": "_0X0oI8koWm6"
   },
   "outputs": [],
   "source": [
    "model = Prophet()"
   ]
  },
  {
   "cell_type": "code",
   "execution_count": 10,
   "metadata": {
    "colab": {
     "base_uri": "https://localhost:8080/"
    },
    "id": "2WJlPuDKofeg",
    "outputId": "b3230015-e6db-4b63-eede-0a69751b6d47"
   },
   "outputs": [
    {
     "name": "stderr",
     "output_type": "stream",
     "text": [
      "2021-12-15 12:10:17.399 INFO    numexpr.utils: NumExpr defaulting to 2 threads.\n",
      "2021-12-15 12:10:17.406 INFO    fbprophet: Disabling weekly seasonality. Run prophet with weekly_seasonality=True to override this.\n",
      "2021-12-15 12:10:17.408 INFO    fbprophet: Disabling daily seasonality. Run prophet with daily_seasonality=True to override this.\n"
     ]
    },
    {
     "name": "stdout",
     "output_type": "stream",
     "text": [
      "Initial log joint probability = -4.39613\n"
     ]
    },
    {
     "data": {
      "text/plain": [
       "<fbprophet.forecaster.Prophet at 0x7fd3c0cae590>"
      ]
     },
     "execution_count": 10,
     "metadata": {},
     "output_type": "execute_result"
    },
    {
     "name": "stdout",
     "output_type": "stream",
     "text": [
      "    Iter      log prob        ||dx||      ||grad||       alpha      alpha0  # evals  Notes \n",
      "      99       270.098    0.00261938       60.3554      0.3175           1      119   \n",
      "    Iter      log prob        ||dx||      ||grad||       alpha      alpha0  # evals  Notes \n",
      "     181       270.275   7.23167e-05       79.5051   8.367e-07       0.001      262  LS failed, Hessian reset \n",
      "     199       270.292   2.73653e-06       94.8664      0.1454      0.6833      285   \n",
      "    Iter      log prob        ||dx||      ||grad||       alpha      alpha0  # evals  Notes \n",
      "     237       270.293   1.69172e-08        77.993           1           1      333   \n",
      "Optimization terminated normally: \n",
      "  Convergence detected: relative gradient magnitude is below tolerance\n"
     ]
    }
   ],
   "source": [
    "model.fit(df)"
   ]
  },
  {
   "cell_type": "markdown",
   "metadata": {
    "id": "ornSgW8V1AQP"
   },
   "source": [
    "<h1>Testing the Model with known data</h1>\n",
    "\n"
   ]
  },
  {
   "cell_type": "code",
   "execution_count": 12,
   "metadata": {
    "colab": {
     "base_uri": "https://localhost:8080/",
     "height": 441
    },
    "id": "CKlkKAbaoxjw",
    "outputId": "6821f8e8-f532-4f23-fbe3-58614c5829d0"
   },
   "outputs": [
    {
     "data": {
      "image/png": "[encoded data removed]",
      "text/plain": [
       "<Figure size 720x432 with 1 Axes>"
      ]
     },
     "metadata": {},
     "output_type": "display_data"
    }
   ],
   "source": [
    "future = list()\n",
    "for i in range(1,13):\n",
    "  date = '1968-%02d' % i\n",
    "  future.append([date])\n",
    "\n",
    "future = pd.DataFrame(future)\n",
    "future.columns = ['ds']\n",
    "future['ds'] = pd.to_datetime(future['ds'])\n",
    "forecast = model.predict(future)\n",
    "model.plot(forecast)\n",
    "plt.show()"
   ]
  },
  {
   "cell_type": "markdown",
   "metadata": {
    "id": "3f7mg1Dl145H"
   },
   "source": [
    "<h1>Forecasting</h1>\n",
    "\n"
   ]
  },
  {
   "cell_type": "code",
   "execution_count": 83,
   "metadata": {
    "colab": {
     "base_uri": "https://localhost:8080/",
     "height": 441
    },
    "id": "iV6Jq7Tsw3Ur",
    "outputId": "50b95d44-047d-42e5-9bfd-9087ee8f20bf"
   },
   "outputs": [
    {
     "data": {
      "image/png": "[encoded data removed]",
      "text/plain": [
       "<Figure size 720x432 with 1 Axes>"
      ]
     },
     "metadata": {},
     "output_type": "display_data"
    }
   ],
   "source": [
    "future = list()\n",
    "for i in range(1,13):\n",
    "  date = '1969-%02d' % i\n",
    "  future.append([date])\n",
    "\n",
    "future = pd.DataFrame(future)\n",
    "future.columns = ['ds']\n",
    "future['ds'] = pd.to_datetime(future['ds'])\n",
    "forecast = model.predict(future)\n",
    "model.plot(forecast)\n",
    "plt.show()"
   ]
  },
  {
   "cell_type": "markdown",
   "metadata": {
    "id": "0G2ujW0A4J6X"
   },
   "source": [
    "<h1>Creating dataset for Training</h1>\n",
    "\n"
   ]
  },
  {
   "cell_type": "code",
   "execution_count": 84,
   "metadata": {
    "colab": {
     "base_uri": "https://localhost:8080/"
    },
    "id": "OuygrdPZw5mb",
    "outputId": "77bfc738-9ff1-4aef-9102-bc870495ba35"
   },
   "outputs": [
    {
     "name": "stdout",
     "output_type": "stream",
     "text": [
      "           ds      y\n",
      "91 1967-08-01  13434\n",
      "92 1967-09-01  13598\n",
      "93 1967-10-01  17187\n",
      "94 1967-11-01  16119\n",
      "95 1967-12-01  13713\n"
     ]
    }
   ],
   "source": [
    "train = df.drop(df.index[-12:])\n",
    "print(train.tail())"
   ]
  },
  {
   "cell_type": "markdown",
   "metadata": {
    "id": "1RsQ-6EP4buq"
   },
   "source": [
    "<h1>Estimating Accuracy of the model</h1>\n",
    "\n"
   ]
  },
  {
   "cell_type": "code",
   "execution_count": 85,
   "metadata": {
    "colab": {
     "base_uri": "https://localhost:8080/"
    },
    "id": "hAxtDRm0xSfE",
    "outputId": "6ebd0189-c99e-4c2e-be70-de53157fdcb0"
   },
   "outputs": [
    {
     "name": "stdout",
     "output_type": "stream",
     "text": [
      "MAE: 1369.485336 \n"
     ]
    }
   ],
   "source": [
    "y_true = df['y'][-12:].values\n",
    "y_pred = forecast['yhat'].values\n",
    "mae = mean_absolute_error(y_true,y_pred)\n",
    "print(\"MAE: %3f \" %mae)"
   ]
  },
  {
   "cell_type": "markdown",
   "metadata": {
    "id": "R8WeZ3PT4m1o"
   },
   "source": [
    "<h1>Visualizing the results comparatively</h1>\n",
    "\n"
   ]
  },
  {
   "cell_type": "code",
   "execution_count": 86,
   "metadata": {
    "colab": {
     "base_uri": "https://localhost:8080/",
     "height": 265
    },
    "id": "U74aq0dSzIrC",
    "outputId": "eed9d698-5244-4a31-be7b-faf3e1af2864"
   },
   "outputs": [
    {
     "data": {
      "image/png": "[encoded data removed]",
      "text/plain": [
       "<Figure size 432x288 with 1 Axes>"
      ]
     },
     "metadata": {
      "needs_background": "light"
     },
     "output_type": "display_data"
    }
   ],
   "source": [
    "plt.plot(y_true,label='Actual')\n",
    "plt.plot(y_pred,label='predicted')\n",
    "plt.legend()\n",
    "plt.show()"
   ]
  },
  {
   "cell_type": "markdown",
   "metadata": {
    "id": "s5b5prASaHIu"
   },
   "source": [
    "<h1>Trining the model</h1>\n",
    "\n"
   ]
  },
  {
   "cell_type": "code",
   "execution_count": 87,
   "metadata": {
    "colab": {
     "base_uri": "https://localhost:8080/"
    },
    "id": "MYUj4bgL0hBS",
    "outputId": "47beb6ad-a077-4404-c2f8-988039445375"
   },
   "outputs": [
    {
     "name": "stderr",
     "output_type": "stream",
     "text": [
      "2021-12-15 13:34:03.858 Disabling weekly seasonality. Run prophet with weekly_seasonality=True to override this.\n",
      "2021-12-15 13:34:03.862 Disabling daily seasonality. Run prophet with daily_seasonality=True to override this.\n"
     ]
    },
    {
     "name": "stdout",
     "output_type": "stream",
     "text": [
      "\n",
      "Initial log joint probability = -104.85\n",
      "Iteration  1. Log joint probability =    72.7915. Improved by 177.641.\n",
      "Iteration  2. Log joint probability =     141.49. Improved by 68.6982.\n",
      "Iteration  3. Log joint probability =    148.523. Improved by 7.03351.\n",
      "Iteration  4. Log joint probability =    148.546. Improved by 0.0223531.\n",
      "Iteration  5. Log joint probability =    148.554. Improved by 0.00880483.\n",
      "Iteration  6. Log joint probability =    148.576. Improved by 0.0214036.\n",
      "Iteration  7. Log joint probability =    148.585. Improved by 0.00973269.\n",
      "Iteration  8. Log joint probability =    148.606. Improved by 0.0204538.\n",
      "Iteration  9. Log joint probability =    148.617. Improved by 0.0106609.\n",
      "Iteration 10. Log joint probability =    148.636. Improved by 0.0195037.\n",
      "Iteration 11. Log joint probability =    148.648. Improved by 0.0115894.\n",
      "Iteration 12. Log joint probability =    148.666. Improved by 0.0185532.\n",
      "Iteration 13. Log joint probability =    148.679. Improved by 0.0125183.\n",
      "Iteration 14. Log joint probability =    148.696. Improved by 0.0176024.\n",
      "Iteration 15. Log joint probability =     148.71. Improved by 0.0134475.\n",
      "Iteration 16. Log joint probability =    148.726. Improved by 0.0166513.\n",
      "Iteration 17. Log joint probability =    148.741. Improved by 0.0143771.\n",
      "Iteration 18. Log joint probability =    148.757. Improved by 0.0156999.\n",
      "Iteration 19. Log joint probability =    148.772. Improved by 0.015307.\n",
      "Iteration 20. Log joint probability =    148.787. Improved by 0.0147481.\n",
      "Iteration 21. Log joint probability =    148.803. Improved by 0.0162373.\n",
      "Iteration 22. Log joint probability =    148.817. Improved by 0.0137961.\n",
      "Iteration 23. Log joint probability =    148.834. Improved by 0.0171679.\n",
      "Iteration 24. Log joint probability =    148.847. Improved by 0.0128437.\n",
      "Iteration 25. Log joint probability =    148.865. Improved by 0.0180988.\n",
      "Iteration 26. Log joint probability =    148.877. Improved by 0.0118909.\n",
      "Iteration 27. Log joint probability =    148.896. Improved by 0.0190301.\n",
      "Iteration 28. Log joint probability =    148.907. Improved by 0.0109379.\n",
      "Iteration 29. Log joint probability =    148.927. Improved by 0.0199618.\n",
      "Iteration 30. Log joint probability =    148.937. Improved by 0.00998453.\n",
      "Iteration 31. Log joint probability =    148.957. Improved by 0.0208938.\n",
      "Iteration 32. Log joint probability =    148.966. Improved by 0.00903083.\n",
      "Iteration 33. Log joint probability =    148.988. Improved by 0.0218261.\n",
      "Iteration 34. Log joint probability =    148.996. Improved by 0.0080768.\n",
      "Iteration 35. Log joint probability =    149.019. Improved by 0.0227589.\n",
      "Iteration 36. Log joint probability =    149.026. Improved by 0.00712245.\n",
      "Iteration 37. Log joint probability =     149.05. Improved by 0.0236919.\n",
      "Iteration 38. Log joint probability =    149.056. Improved by 0.00616777.\n",
      "Iteration 39. Log joint probability =    149.081. Improved by 0.0246253.\n",
      "Iteration 40. Log joint probability =    149.086. Improved by 0.00521276.\n",
      "Iteration 41. Log joint probability =    149.112. Improved by 0.0255591.\n",
      "Iteration 42. Log joint probability =    149.116. Improved by 0.00425741.\n",
      "Iteration 43. Log joint probability =    149.142. Improved by 0.0264932.\n",
      "Iteration 44. Log joint probability =    149.146. Improved by 0.00330174.\n",
      "Iteration 45. Log joint probability =    149.173. Improved by 0.0274277.\n",
      "Iteration 46. Log joint probability =    149.175. Improved by 0.00234573.\n",
      "Iteration 47. Log joint probability =    149.204. Improved by 0.0283626.\n",
      "Iteration 48. Log joint probability =    149.205. Improved by 0.00138939.\n",
      "Iteration 49. Log joint probability =    149.234. Improved by 0.0292978.\n",
      "Iteration 50. Log joint probability =    149.235. Improved by 0.000432712.\n",
      "Iteration 51. Log joint probability =    149.265. Improved by 0.0302333.\n",
      "Iteration 52. Log joint probability =    149.314. Improved by 0.0491703.\n",
      "Iteration 53. Log joint probability =    182.761. Improved by 33.4463.\n",
      "Iteration 54. Log joint probability =     189.18. Improved by 6.41958.\n",
      "Iteration 55. Log joint probability =    189.265. Improved by 0.0845876.\n",
      "Iteration 56. Log joint probability =     189.29. Improved by 0.0254509.\n",
      "Iteration 57. Log joint probability =    189.383. Improved by 0.0928119.\n",
      "Iteration 58. Log joint probability =    189.407. Improved by 0.0237773.\n",
      "Iteration 59. Log joint probability =     189.48. Improved by 0.0737264.\n",
      "Iteration 60. Log joint probability =    189.609. Improved by 0.128704.\n",
      "Iteration 61. Log joint probability =    189.658. Improved by 0.0487217.\n",
      "Iteration 62. Log joint probability =    189.845. Improved by 0.187362.\n",
      "Iteration 63. Log joint probability =    190.346. Improved by 0.501064.\n",
      "Iteration 64. Log joint probability =    199.123. Improved by 8.77684.\n",
      "Iteration 65. Log joint probability =    199.352. Improved by 0.229142.\n",
      "Iteration 66. Log joint probability =     202.52. Improved by 3.16772.\n",
      "Iteration 67. Log joint probability =    204.436. Improved by 1.91611.\n",
      "Iteration 68. Log joint probability =    207.108. Improved by 2.67166.\n",
      "Iteration 69. Log joint probability =    207.484. Improved by 0.376049.\n",
      "Iteration 70. Log joint probability =     212.51. Improved by 5.02648.\n",
      "Iteration 71. Log joint probability =     216.04. Improved by 3.52948.\n",
      "Iteration 72. Log joint probability =    216.893. Improved by 0.853308.\n",
      "Iteration 73. Log joint probability =    219.055. Improved by 2.16158.\n",
      "Iteration 74. Log joint probability =    219.719. Improved by 0.664594.\n",
      "Iteration 75. Log joint probability =     220.82. Improved by 1.10064.\n",
      "Iteration 76. Log joint probability =    221.052. Improved by 0.231763.\n",
      "Iteration 77. Log joint probability =    222.067. Improved by 1.01557.\n",
      "Iteration 78. Log joint probability =    222.516. Improved by 0.449119.\n",
      "Iteration 79. Log joint probability =    223.531. Improved by 1.01494.\n",
      "Iteration 80. Log joint probability =     223.57. Improved by 0.0390872.\n",
      "Iteration 81. Log joint probability =    223.716. Improved by 0.145833.\n",
      "Iteration 82. Log joint probability =    223.735. Improved by 0.0188064.\n",
      "Iteration 83. Log joint probability =    225.547. Improved by 1.81196.\n",
      "Iteration 84. Log joint probability =    225.818. Improved by 0.271325.\n",
      "Iteration 85. Log joint probability =    226.111. Improved by 0.292685.\n",
      "Iteration 86. Log joint probability =    226.373. Improved by 0.262285.\n",
      "Iteration 87. Log joint probability =    227.129. Improved by 0.755468.\n",
      "Iteration 88. Log joint probability =    227.969. Improved by 0.840713.\n",
      "Iteration 89. Log joint probability =     228.15. Improved by 0.180627.\n",
      "Iteration 90. Log joint probability =    228.152. Improved by 0.00197275.\n",
      "Iteration 91. Log joint probability =    228.928. Improved by 0.775614.\n",
      "Iteration 92. Log joint probability =    229.045. Improved by 0.117062.\n",
      "Iteration 93. Log joint probability =    230.208. Improved by 1.16325.\n",
      "Iteration 94. Log joint probability =     230.25. Improved by 0.0424113.\n",
      "Iteration 95. Log joint probability =     232.93. Improved by 2.67962.\n",
      "Iteration 96. Log joint probability =    233.449. Improved by 0.518669.\n",
      "Iteration 97. Log joint probability =    234.032. Improved by 0.582873.\n",
      "Iteration 98. Log joint probability =    234.089. Improved by 0.0577372.\n",
      "Iteration 99. Log joint probability =    234.117. Improved by 0.0274991.\n",
      "Iteration 100. Log joint probability =    234.625. Improved by 0.507974.\n",
      "Iteration 101. Log joint probability =    234.818. Improved by 0.193493.\n",
      "Iteration 102. Log joint probability =     234.86. Improved by 0.0414047.\n",
      "Iteration 103. Log joint probability =    234.874. Improved by 0.0147599.\n",
      "Iteration 104. Log joint probability =    234.891. Improved by 0.0163406.\n",
      "Iteration 105. Log joint probability =    234.962. Improved by 0.0714811.\n",
      "Iteration 106. Log joint probability =    234.967. Improved by 0.00502639.\n",
      "Iteration 107. Log joint probability =    234.981. Improved by 0.0136709.\n",
      "Iteration 108. Log joint probability =     234.99. Improved by 0.00891697.\n",
      "Iteration 109. Log joint probability =    234.993. Improved by 0.00302646.\n",
      "Iteration 110. Log joint probability =    234.999. Improved by 0.00594337.\n",
      "Iteration 111. Log joint probability =    235.002. Improved by 0.00281256.\n",
      "Iteration 112. Log joint probability =    235.003. Improved by 0.00117053.\n",
      "Iteration 113. Log joint probability =    235.003. Improved by 0.000413682.\n",
      "Iteration 114. Log joint probability =    235.004. Improved by 0.000287032.\n",
      "Iteration 115. Log joint probability =    235.004. Improved by 0.000618175.\n",
      "Iteration 116. Log joint probability =    235.004. Improved by 0.000135204.\n",
      "Iteration 117. Log joint probability =    235.004. Improved by 0.000144703.\n",
      "Iteration 118. Log joint probability =    235.005. Improved by 0.000400957.\n",
      "Iteration 119. Log joint probability =    235.005. Improved by 0.000384069.\n",
      "Iteration 120. Log joint probability =    235.006. Improved by 0.00056183.\n",
      "Iteration 121. Log joint probability =    235.006. Improved by 0.00025609.\n",
      "Iteration 122. Log joint probability =    235.006. Improved by 6.66205e-05.\n",
      "Iteration 123. Log joint probability =    235.006. Improved by 0.0002174.\n",
      "Iteration 124. Log joint probability =    235.006. Improved by 6.68748e-05.\n",
      "Iteration 125. Log joint probability =    235.006. Improved by 2.7519e-05.\n",
      "Iteration 126. Log joint probability =    235.006. Improved by 6.1791e-06.\n",
      "Iteration 127. Log joint probability =    235.006. Improved by 1.9133e-05.\n",
      "Iteration 128. Log joint probability =    235.006. Improved by 7.10389e-06.\n",
      "Iteration 129. Log joint probability =    235.006. Improved by 1.15499e-05.\n",
      "Iteration 130. Log joint probability =    235.006. Improved by 2.57825e-06.\n",
      "Iteration 131. Log joint probability =    235.006. Improved by 1.62747e-05.\n",
      "Iteration 132. Log joint probability =    235.006. Improved by 9.03988e-06.\n",
      "Iteration 133. Log joint probability =    235.007. Improved by 2.15131e-05.\n",
      "Iteration 134. Log joint probability =    235.007. Improved by 2.94838e-05.\n",
      "Iteration 135. Log joint probability =    235.007. Improved by 2.75125e-05.\n",
      "Iteration 136. Log joint probability =    235.007. Improved by 2.04077e-05.\n",
      "Iteration 137. Log joint probability =    235.007. Improved by 6.42547e-06.\n",
      "Iteration 138. Log joint probability =    235.007. Improved by 4.12178e-06.\n",
      "Iteration 139. Log joint probability =    235.007. Improved by 1.89545e-06.\n",
      "Iteration 140. Log joint probability =    235.007. Improved by 1.01054e-06.\n",
      "Iteration 141. Log joint probability =    235.007. Improved by 3.16242e-06.\n",
      "Iteration 142. Log joint probability =    235.007. Improved by 5.69954e-06.\n",
      "Iteration 143. Log joint probability =    235.007. Improved by 4.68096e-07.\n",
      "Iteration 144. Log joint probability =    235.007. Improved by 8.22329e-07.\n",
      "Iteration 145. Log joint probability =    235.007. Improved by 2.68454e-06.\n",
      "Iteration 146. Log joint probability =    235.007. Improved by 3.29838e-07.\n",
      "Iteration 147. Log joint probability =    235.007. Improved by 4.45133e-07.\n",
      "Iteration 148. Log joint probability =    235.007. Improved by 7.65548e-07.\n",
      "Iteration 149. Log joint probability =    235.007. Improved by 1.24512e-06.\n",
      "Iteration 150. Log joint probability =    235.007. Improved by 3.0779e-07.\n",
      "Iteration 151. Log joint probability =    235.007. Improved by 6.62833e-07.\n",
      "Iteration 152. Log joint probability =    235.007. Improved by 1.79269e-07.\n",
      "Iteration 153. Log joint probability =    235.007. Improved by 1.1594e-07.\n",
      "Iteration 154. Log joint probability =    235.007. Improved by 2.92789e-07.\n",
      "Iteration 155. Log joint probability =    235.007. Improved by 8.30935e-08.\n",
      "Iteration 156. Log joint probability =    235.007. Improved by 7.04446e-08.\n",
      "Iteration 157. Log joint probability =    235.007. Improved by 2.21384e-08.\n",
      "Iteration 158. Log joint probability =    235.007. Improved by 1.4477e-07.\n",
      "Iteration 159. Log joint probability =    235.007. Improved by 8.9846e-08.\n",
      "Iteration 160. Log joint probability =    235.007. Improved by 9.26282e-08.\n",
      "Iteration 161. Log joint probability =    235.007. Improved by 3.48044e-08.\n",
      "Iteration 162. Log joint probability =    235.007. Improved by 1.07663e-08.\n",
      "Iteration 163. Log joint probability =    235.007. Improved by 1.0382e-08.\n",
      "Iteration 164. Log joint probability =    235.007. Improved by 6.91372e-09.\n"
     ]
    },
    {
     "data": {
      "text/plain": [
       "['model.sav']"
      ]
     },
     "execution_count": 87,
     "metadata": {},
     "output_type": "execute_result"
    }
   ],
   "source": [
    "from sklearn.metrics import mean_absolute_error\n",
    "from fbprophet import Prophet\n",
    "import pandas as pd\n",
    "import matplotlib.pyplot as plt\n",
    "import joblib\n",
    "\n",
    "path = \"https://raw.githubusercontent.com/jbrownlee/Datasets/master/monthly-car-sales.csv\"\n",
    "df = pd.read_csv(path,header=0)\n",
    "\n",
    "df.columns = ['ds','y']\n",
    "df['ds'] = pd.to_datetime(df['ds'])\n",
    "train = df.drop(df.index[-12:])\n",
    "\n",
    "model = Prophet()\n",
    "model.fit(train)\n",
    "filename = 'model.sav'\n",
    "joblib.dump(model,filename)\n",
    "\n"
   ]
  },
  {
   "cell_type": "markdown",
   "metadata": {
    "id": "3wEusv0AU4hW"
   },
   "source": [
    "# Results"
   ]
  },
  {
   "cell_type": "code",
   "execution_count": 88,
   "metadata": {
    "colab": {
     "base_uri": "https://localhost:8080/",
     "height": 279
    },
    "id": "HxMOiS5OUiVV",
    "outputId": "16b0ea4d-d6b7-4e83-89a3-9b27b398a830"
   },
   "outputs": [
    {
     "data": {
      "image/png": "[encoded data removed]",
      "text/plain": [
       "<Figure size 432x288 with 1 Axes>"
      ]
     },
     "metadata": {
      "needs_background": "light"
     },
     "output_type": "display_data"
    }
   ],
   "source": [
    "future = list()\n",
    "for i in range(1,13):\n",
    "  date = '1969-%02d' % i\n",
    "  future.append([date])\n",
    "future = pd.DataFrame(future)\n",
    "future.columns = ['ds']\n",
    "future['ds'] = pd.to_datetime(future['ds'])\n",
    "\n",
    "loaded_model = joblib.load(filename)\n",
    "forecast = loaded_model.predict(future)\n",
    "y_pred = forecast['yhat'].values\n",
    "plt.plot(y_pred, label='Predicted')\n",
    "plt.xlabel(\"Months\")\n",
    "plt.ylabel(\"Sales\")\n",
    "plt.legend()\n",
    "plt.show()"
   ]
  },
  {
   "cell_type": "markdown",
   "metadata": {
    "id": "dBxFdWAaZhzt"
   },
   "source": [
    "<h1>App</h1>"
   ]
  },
  {
   "cell_type": "code",
   "execution_count": 82,
   "metadata": {
    "colab": {
     "base_uri": "https://localhost:8080/",
     "height": 265
    },
    "id": "OJ2NglZZVRyY",
    "outputId": "21179916-230d-4ced-e8e5-192c788a7595"
   },
   "outputs": [
    {
     "data": {
      "image/png": "[encoded data removed]",
      "text/plain": [
       "<Figure size 432x288 with 1 Axes>"
      ]
     },
     "metadata": {
      "needs_background": "light"
     },
     "output_type": "display_data"
    }
   ],
   "source": [
    "from sklearn.metrics import mean_absolute_error\n",
    "from fbprophet import Prophet\n",
    "import pandas as pd\n",
    "import matplotlib.pyplot as plt\n",
    "import joblib\n",
    "import streamlit as st\n",
    "import asyncio\n",
    "import nest_asyncio\n",
    "asyncio.set_event_loop(asyncio.SelectorEventLoop())\n",
    "\n",
    "class StreamlitApp:\n",
    "  def __init__(self):\n",
    "    self.filename = 'model.sav'\n",
    "    self.model = joblib.load(self.filename)\n",
    "\n",
    "  def train_model():\n",
    "    path = \"https://raw.githubusercontent.com/jbrownlee/Datasets/master/monthly-car-sales.csv\"\n",
    "    df = pd.read_csv(path,header=0)\n",
    "\n",
    "    df.columns = ['ds','y']\n",
    "    df['ds'] = pd.to_datetime(df['ds'])\n",
    "    train = df.drop(df.index[-12:])\n",
    "\n",
    "    model = Prophet()\n",
    "    model.fit(train)\n",
    "    filename = 'model.sav'\n",
    "    joblib.dump(model,filename)\n",
    "\n",
    "\n",
    "  def predict_sales(self):\n",
    "    future = list()\n",
    "    n=int(st.slider('Months:',1,36,16))\n",
    "    count = 0\n",
    "    y,m = divmod(n,12)\n",
    "    for i in range(0,y+1):\n",
    "        if m>=0:\n",
    "          for j in range(1,13):\n",
    "            if count<n :\n",
    "              date = str(1969+i)+'-'+str(\"%02d\"%j)\n",
    "              count+=1\n",
    "              future.append([date])\n",
    "    future = pd.DataFrame(future)\n",
    "    future.columns = ['ds']\n",
    "    future['ds'] = pd.to_datetime(future['ds'])\n",
    "        \n",
    "    forecast = self.model.predict(future)\n",
    "    y_pred = forecast['yhat'].values\n",
    "    fig, ax = plt.subplots()\n",
    "    ax.plot(y_pred, label='Predicted')\n",
    "\n",
    "\n",
    "sa =StreamlitApp()\n",
    "sa.predict_sales()"
   ]
  },
  {
   "cell_type": "code",
   "execution_count": 89,
   "metadata": {
    "id": "uGwgFCM6oIf_"
   },
   "outputs": [],
   "source": [
    "#!streamlit run /usr/local/lib/python3.7/dist-packages/ipykernel_launcher.py\n"
   ]
  }
 ],
 "metadata": {
  "colab": {
   "collapsed_sections": [],
   "name": "car_sales.ipynb",
   "provenance": []
  },
  "kernelspec": {
   "display_name": "Python 3 (ipykernel)",
   "language": "python",
   "name": "python3"
  },
  "language_info": {
   "codemirror_mode": {
    "name": "ipython",
    "version": 3
   },
   "file_extension": ".py",
   "mimetype": "text/x-python",
   "name": "python",
   "nbconvert_exporter": "python",
   "pygments_lexer": "ipython3",
   "version": "3.7.11"
  }
 },
 "nbformat": 4,
 "nbformat_minor": 1
}
